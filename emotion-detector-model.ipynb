{
 "cells": [
  {
   "cell_type": "code",
   "execution_count": 8,
   "metadata": {},
   "outputs": [],
   "source": [
    "import numpy as np\n",
    "import cv2\n",
    "import os\n",
    "import pandas as pd\n",
    "import tensorflow as tf\n",
    "from tensorflow.keras.preprocessing.image import ImageDataGenerator\n",
    "from tensorflow.keras.models import Sequential\n",
    "from tensorflow.keras.layers import Conv2D,MaxPooling2D,Flatten,Dense,Dropout\n",
    "from tensorflow.keras.optimizers import Adam"
   ]
  },
  {
   "cell_type": "code",
   "execution_count": 9,
   "metadata": {},
   "outputs": [],
   "source": [
    "train_dir = '../input/fer2013/train/'\n",
    "test_dir = '../input/fer2013/test/'"
   ]
  },
  {
   "cell_type": "code",
   "execution_count": 10,
   "metadata": {},
   "outputs": [
    {
     "name": "stdout",
     "output_type": "stream",
     "text": [
      "total train folder:  7\n",
      "total test folder: 7\n"
     ]
    }
   ],
   "source": [
    "print('total train folder: ',len(os.listdir(train_dir)))\n",
    "print('total test folder:',len(os.listdir(test_dir)))"
   ]
  },
  {
   "cell_type": "code",
   "execution_count": 11,
   "metadata": {},
   "outputs": [
    {
     "name": "stdout",
     "output_type": "stream",
     "text": [
      "Found 28709 images belonging to 7 classes.\n",
      "Found 7178 images belonging to 7 classes.\n"
     ]
    }
   ],
   "source": [
    "train_datagen = ImageDataGenerator( rescale = 1.0/255. )\n",
    "test_datagen  = ImageDataGenerator( rescale = 1.0/255. )\n",
    "\n",
    "train_generator = train_datagen.flow_from_directory(train_dir,\n",
    "                                                    batch_size=64,\n",
    "                                                    class_mode='categorical',\n",
    "                                                    target_size=(48,48),\n",
    "                                                   color_mode=\"grayscale\")     \n",
    "\n",
    "test_generator =  test_datagen.flow_from_directory(test_dir,\n",
    "                                                         batch_size=64,\n",
    "                                                         class_mode  = 'categorical',\n",
    "                                                         target_size = (48,48),\n",
    "                                                          color_mode=\"grayscale\")"
   ]
  },
  {
   "cell_type": "code",
   "execution_count": 12,
   "metadata": {},
   "outputs": [],
   "source": [
    "model = Sequential()\n",
    "\n",
    "model.add(Conv2D(32, kernel_size=(3, 3), activation='relu', input_shape=(48,48,1)))\n",
    "model.add(Conv2D(64, kernel_size=(3, 3), activation='relu'))\n",
    "model.add(MaxPooling2D(pool_size=(2, 2)))\n",
    "model.add(Dropout(0.25))\n",
    "\n",
    "model.add(Conv2D(128, kernel_size=(3, 3), activation='relu'))\n",
    "model.add(MaxPooling2D(pool_size=(2, 2)))\n",
    "model.add(Conv2D(128, kernel_size=(3, 3), activation='relu'))\n",
    "model.add(MaxPooling2D(pool_size=(2, 2)))\n",
    "model.add(Dropout(0.25))\n",
    "\n",
    "model.add(Flatten())\n",
    "model.add(Dense(1024, activation='relu'))\n",
    "model.add(Dropout(0.5))\n",
    "model.add(Dense(7, activation='softmax'))"
   ]
  },
  {
   "cell_type": "code",
   "execution_count": 13,
   "metadata": {},
   "outputs": [
    {
     "name": "stdout",
     "output_type": "stream",
     "text": [
      "Model: \"sequential_1\"\n",
      "_________________________________________________________________\n",
      "Layer (type)                 Output Shape              Param #   \n",
      "=================================================================\n",
      "conv2d_4 (Conv2D)            (None, 46, 46, 32)        320       \n",
      "_________________________________________________________________\n",
      "conv2d_5 (Conv2D)            (None, 44, 44, 64)        18496     \n",
      "_________________________________________________________________\n",
      "max_pooling2d_3 (MaxPooling2 (None, 22, 22, 64)        0         \n",
      "_________________________________________________________________\n",
      "dropout_3 (Dropout)          (None, 22, 22, 64)        0         \n",
      "_________________________________________________________________\n",
      "conv2d_6 (Conv2D)            (None, 20, 20, 128)       73856     \n",
      "_________________________________________________________________\n",
      "max_pooling2d_4 (MaxPooling2 (None, 10, 10, 128)       0         \n",
      "_________________________________________________________________\n",
      "conv2d_7 (Conv2D)            (None, 8, 8, 128)         147584    \n",
      "_________________________________________________________________\n",
      "max_pooling2d_5 (MaxPooling2 (None, 4, 4, 128)         0         \n",
      "_________________________________________________________________\n",
      "dropout_4 (Dropout)          (None, 4, 4, 128)         0         \n",
      "_________________________________________________________________\n",
      "flatten_1 (Flatten)          (None, 2048)              0         \n",
      "_________________________________________________________________\n",
      "dense_2 (Dense)              (None, 1024)              2098176   \n",
      "_________________________________________________________________\n",
      "dropout_5 (Dropout)          (None, 1024)              0         \n",
      "_________________________________________________________________\n",
      "dense_3 (Dense)              (None, 7)                 7175      \n",
      "=================================================================\n",
      "Total params: 2,345,607\n",
      "Trainable params: 2,345,607\n",
      "Non-trainable params: 0\n",
      "_________________________________________________________________\n"
     ]
    }
   ],
   "source": [
    "model.summary()"
   ]
  },
  {
   "cell_type": "code",
   "execution_count": 14,
   "metadata": {},
   "outputs": [
    {
     "name": "stdout",
     "output_type": "stream",
     "text": [
      "Epoch 1/50\n",
      "448/448 [==============================] - 225s 502ms/step - loss: 1.8054 - accuracy: 0.2564 - val_loss: 1.7420 - val_accuracy: 0.3217\n",
      "Epoch 2/50\n",
      "448/448 [==============================] - 224s 500ms/step - loss: 1.6350 - accuracy: 0.3608 - val_loss: 1.5409 - val_accuracy: 0.4082\n",
      "Epoch 3/50\n",
      "448/448 [==============================] - 224s 500ms/step - loss: 1.5216 - accuracy: 0.4138 - val_loss: 1.4508 - val_accuracy: 0.4480\n",
      "Epoch 4/50\n",
      "448/448 [==============================] - 220s 492ms/step - loss: 1.4446 - accuracy: 0.4474 - val_loss: 1.3868 - val_accuracy: 0.4749\n",
      "Epoch 5/50\n",
      "448/448 [==============================] - 226s 504ms/step - loss: 1.3775 - accuracy: 0.4767 - val_loss: 1.3299 - val_accuracy: 0.4944\n",
      "Epoch 6/50\n",
      "448/448 [==============================] - 219s 490ms/step - loss: 1.3310 - accuracy: 0.4948 - val_loss: 1.2916 - val_accuracy: 0.5084\n",
      "Epoch 7/50\n",
      "448/448 [==============================] - 222s 496ms/step - loss: 1.2861 - accuracy: 0.5110 - val_loss: 1.2576 - val_accuracy: 0.5198\n",
      "Epoch 8/50\n",
      "448/448 [==============================] - 226s 505ms/step - loss: 1.2485 - accuracy: 0.5284 - val_loss: 1.2284 - val_accuracy: 0.5370\n",
      "Epoch 9/50\n",
      "448/448 [==============================] - 221s 493ms/step - loss: 1.2141 - accuracy: 0.5445 - val_loss: 1.2046 - val_accuracy: 0.5385\n",
      "Epoch 10/50\n",
      "448/448 [==============================] - 222s 496ms/step - loss: 1.1853 - accuracy: 0.5544 - val_loss: 1.1879 - val_accuracy: 0.5407\n",
      "Epoch 11/50\n",
      "448/448 [==============================] - 230s 514ms/step - loss: 1.1570 - accuracy: 0.5663 - val_loss: 1.1736 - val_accuracy: 0.5565\n",
      "Epoch 12/50\n",
      "448/448 [==============================] - 223s 497ms/step - loss: 1.1272 - accuracy: 0.5774 - val_loss: 1.1638 - val_accuracy: 0.5674\n",
      "Epoch 13/50\n",
      "448/448 [==============================] - 221s 493ms/step - loss: 1.1059 - accuracy: 0.5856 - val_loss: 1.1359 - val_accuracy: 0.5760\n",
      "Epoch 14/50\n",
      "448/448 [==============================] - 226s 504ms/step - loss: 1.0845 - accuracy: 0.5956 - val_loss: 1.1300 - val_accuracy: 0.5699\n",
      "Epoch 15/50\n",
      "448/448 [==============================] - 223s 499ms/step - loss: 1.0561 - accuracy: 0.6061 - val_loss: 1.1124 - val_accuracy: 0.5794\n",
      "Epoch 16/50\n",
      "448/448 [==============================] - 226s 506ms/step - loss: 1.0355 - accuracy: 0.6130 - val_loss: 1.1093 - val_accuracy: 0.5848\n",
      "Epoch 17/50\n",
      "448/448 [==============================] - 220s 492ms/step - loss: 1.0096 - accuracy: 0.6228 - val_loss: 1.0882 - val_accuracy: 0.5904\n",
      "Epoch 18/50\n",
      "448/448 [==============================] - 218s 486ms/step - loss: 0.9891 - accuracy: 0.6332 - val_loss: 1.0927 - val_accuracy: 0.5901\n",
      "Epoch 19/50\n",
      "448/448 [==============================] - 223s 499ms/step - loss: 0.9704 - accuracy: 0.6415 - val_loss: 1.0738 - val_accuracy: 0.5995\n",
      "Epoch 20/50\n",
      "448/448 [==============================] - 220s 491ms/step - loss: 0.9496 - accuracy: 0.6471 - val_loss: 1.0746 - val_accuracy: 0.6030\n",
      "Epoch 21/50\n",
      "448/448 [==============================] - 219s 489ms/step - loss: 0.9169 - accuracy: 0.6596 - val_loss: 1.0739 - val_accuracy: 0.6042\n",
      "Epoch 22/50\n",
      "448/448 [==============================] - 225s 502ms/step - loss: 0.8965 - accuracy: 0.6670 - val_loss: 1.0666 - val_accuracy: 0.6051\n",
      "Epoch 23/50\n",
      "448/448 [==============================] - 219s 488ms/step - loss: 0.8839 - accuracy: 0.6758 - val_loss: 1.0694 - val_accuracy: 0.6117\n",
      "Epoch 24/50\n",
      "448/448 [==============================] - 219s 490ms/step - loss: 0.8567 - accuracy: 0.6848 - val_loss: 1.0643 - val_accuracy: 0.6112\n",
      "Epoch 25/50\n",
      "448/448 [==============================] - 224s 500ms/step - loss: 0.8322 - accuracy: 0.6937 - val_loss: 1.0654 - val_accuracy: 0.6099\n",
      "Epoch 26/50\n",
      "448/448 [==============================] - 221s 494ms/step - loss: 0.8089 - accuracy: 0.7028 - val_loss: 1.0502 - val_accuracy: 0.6170\n",
      "Epoch 27/50\n",
      "448/448 [==============================] - 225s 503ms/step - loss: 0.7889 - accuracy: 0.7132 - val_loss: 1.0539 - val_accuracy: 0.6180\n",
      "Epoch 28/50\n",
      "448/448 [==============================] - 222s 497ms/step - loss: 0.7657 - accuracy: 0.7182 - val_loss: 1.0608 - val_accuracy: 0.6150\n",
      "Epoch 29/50\n",
      "448/448 [==============================] - 220s 492ms/step - loss: 0.7422 - accuracy: 0.7278 - val_loss: 1.0642 - val_accuracy: 0.6144\n",
      "Epoch 30/50\n",
      "448/448 [==============================] - 222s 496ms/step - loss: 0.7196 - accuracy: 0.7359 - val_loss: 1.0759 - val_accuracy: 0.6197\n",
      "Epoch 31/50\n",
      "448/448 [==============================] - 218s 486ms/step - loss: 0.7013 - accuracy: 0.7452 - val_loss: 1.0681 - val_accuracy: 0.6217\n",
      "Epoch 32/50\n",
      "448/448 [==============================] - 217s 485ms/step - loss: 0.6726 - accuracy: 0.7541 - val_loss: 1.0792 - val_accuracy: 0.6222\n",
      "Epoch 33/50\n",
      "448/448 [==============================] - 221s 494ms/step - loss: 0.6542 - accuracy: 0.7614 - val_loss: 1.0730 - val_accuracy: 0.6235\n",
      "Epoch 34/50\n",
      "448/448 [==============================] - 217s 484ms/step - loss: 0.6399 - accuracy: 0.7651 - val_loss: 1.0635 - val_accuracy: 0.6285\n",
      "Epoch 35/50\n",
      "448/448 [==============================] - 217s 484ms/step - loss: 0.6142 - accuracy: 0.7776 - val_loss: 1.0820 - val_accuracy: 0.6275\n",
      "Epoch 36/50\n",
      "448/448 [==============================] - 223s 499ms/step - loss: 0.5917 - accuracy: 0.7845 - val_loss: 1.0942 - val_accuracy: 0.6260\n",
      "Epoch 37/50\n",
      "448/448 [==============================] - 219s 489ms/step - loss: 0.5820 - accuracy: 0.7870 - val_loss: 1.0883 - val_accuracy: 0.6275\n",
      "Epoch 38/50\n",
      "448/448 [==============================] - 220s 492ms/step - loss: 0.5571 - accuracy: 0.7971 - val_loss: 1.0883 - val_accuracy: 0.6318\n",
      "Epoch 39/50\n",
      "448/448 [==============================] - 217s 485ms/step - loss: 0.5442 - accuracy: 0.8031 - val_loss: 1.0884 - val_accuracy: 0.6297\n",
      "Epoch 40/50\n",
      "448/448 [==============================] - 216s 481ms/step - loss: 0.5226 - accuracy: 0.8120 - val_loss: 1.1162 - val_accuracy: 0.6265\n",
      "Epoch 41/50\n",
      "448/448 [==============================] - 221s 492ms/step - loss: 0.5050 - accuracy: 0.8170 - val_loss: 1.1201 - val_accuracy: 0.6254\n",
      "Epoch 42/50\n",
      "448/448 [==============================] - 215s 480ms/step - loss: 0.4831 - accuracy: 0.8255 - val_loss: 1.1250 - val_accuracy: 0.6286\n",
      "Epoch 43/50\n",
      "448/448 [==============================] - 216s 482ms/step - loss: 0.4760 - accuracy: 0.8260 - val_loss: 1.1276 - val_accuracy: 0.6251\n",
      "Epoch 44/50\n",
      "448/448 [==============================] - 220s 492ms/step - loss: 0.4589 - accuracy: 0.8356 - val_loss: 1.1399 - val_accuracy: 0.6306\n",
      "Epoch 45/50\n",
      "448/448 [==============================] - 216s 483ms/step - loss: 0.4433 - accuracy: 0.8385 - val_loss: 1.1573 - val_accuracy: 0.6278\n",
      "Epoch 46/50\n",
      "448/448 [==============================] - 221s 494ms/step - loss: 0.4280 - accuracy: 0.8457 - val_loss: 1.1521 - val_accuracy: 0.6281\n",
      "Epoch 47/50\n",
      "448/448 [==============================] - 224s 500ms/step - loss: 0.4123 - accuracy: 0.8520 - val_loss: 1.1704 - val_accuracy: 0.6300\n",
      "Epoch 48/50\n",
      "448/448 [==============================] - 221s 493ms/step - loss: 0.4011 - accuracy: 0.8534 - val_loss: 1.1710 - val_accuracy: 0.6242\n",
      "Epoch 49/50\n",
      "448/448 [==============================] - 221s 494ms/step - loss: 0.3847 - accuracy: 0.8632 - val_loss: 1.1887 - val_accuracy: 0.6300\n",
      "Epoch 50/50\n",
      "448/448 [==============================] - 226s 504ms/step - loss: 0.3750 - accuracy: 0.8647 - val_loss: 1.2130 - val_accuracy: 0.6317\n"
     ]
    }
   ],
   "source": [
    "model.compile(optimizer=Adam(lr=0.0001),loss='categorical_crossentropy',metrics=['accuracy'])\n",
    "\n",
    "history = model.fit(\n",
    "        train_generator,\n",
    "        steps_per_epoch=28709 // 64,\n",
    "        epochs=50,\n",
    "        validation_data=test_generator,\n",
    "        validation_steps=7178 // 64,verbose=1)"
   ]
  },
  {
   "cell_type": "code",
   "execution_count": 18,
   "metadata": {},
   "outputs": [],
   "source": [
    "model.save('mymodel3.h5')\n",
    "model.save_weights(\"weights3.h5\")"
   ]
  },
  {
   "cell_type": "code",
   "execution_count": 19,
   "metadata": {},
   "outputs": [],
   "source": [
    "model_json=model.to_json()\n",
    "with open('model3.json',\"w\") as file:\n",
    "  file.write(model_json)"
   ]
  },
  {
   "cell_type": "code",
   "execution_count": 20,
   "metadata": {},
   "outputs": [
    {
     "data": {
      "image/png": "[encoded data removed]",
      "text/plain": [
       "<Figure size 432x288 with 1 Axes>"
      ]
     },
     "metadata": {
      "needs_background": "light"
     },
     "output_type": "display_data"
    },
    {
     "data": {
      "image/png": "[encoded data removed]",
      "text/plain": [
       "<Figure size 432x288 with 1 Axes>"
      ]
     },
     "metadata": {
      "needs_background": "light"
     },
     "output_type": "display_data"
    }
   ],
   "source": [
    "import  matplotlib.pyplot as plt\n",
    "acc = history.history['accuracy']\n",
    "val_acc = history.history['val_accuracy']\n",
    "loss = history.history['loss']\n",
    "val_loss = history.history['val_loss']\n",
    "\n",
    "epochs = range(len(acc))\n",
    "\n",
    "plt.plot(epochs, acc, 'r', label='Training accuracy')\n",
    "plt.plot(epochs, val_acc, 'b', label='Validation accuracy')\n",
    "plt.title('Training and validation accuracy')\n",
    "\n",
    "plt.figure()\n",
    "\n",
    "plt.plot(epochs, loss, 'r', label='Training Loss')\n",
    "plt.plot(epochs, val_loss, 'b', label='Validation Loss')\n",
    "plt.title('Training and validation loss')\n",
    "plt.legend()\n",
    "\n",
    "plt.show()"
   ]
  },
  {
   "cell_type": "code",
   "execution_count": null,
   "metadata": {},
   "outputs": [],
   "source": []
  }
 ],
 "metadata": {
  "kernelspec": {
   "display_name": "Python 3",
   "language": "python",
   "name": "python3"
  },
  "language_info": {
   "codemirror_mode": {
    "name": "ipython",
    "version": 3
   },
   "file_extension": ".py",
   "mimetype": "text/x-python",
   "name": "python",
   "nbconvert_exporter": "python",
   "pygments_lexer": "ipython3",
   "version": "3.8.5"
  }
 },
 "nbformat": 4,
 "nbformat_minor": 4
}
